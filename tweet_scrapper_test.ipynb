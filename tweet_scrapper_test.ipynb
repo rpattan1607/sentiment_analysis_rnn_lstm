{
 "cells": [
  {
   "cell_type": "code",
   "execution_count": 1,
   "id": "b344ccce-89be-405d-8e71-4c6c750931a5",
   "metadata": {},
   "outputs": [],
   "source": [
    "from twikit import Client, TooManyRequests\n",
    "import time\n",
    "from datetime import datetime\n",
    "import csv\n",
    "from configparser import ConfigParser\n",
    "from random import randint\n",
    "import asyncio"
   ]
  },
  {
   "cell_type": "code",
   "execution_count": 7,
   "id": "41b3d638-4bee-495f-b5d2-de7d8da76fb8",
   "metadata": {},
   "outputs": [],
   "source": [
    "MINIMUM_TWEETS = 100\n",
    "QUERY = 'martin'"
   ]
  },
  {
   "cell_type": "code",
   "execution_count": 3,
   "id": "61a0ed96-4cae-490a-b323-35df198ce39d",
   "metadata": {},
   "outputs": [],
   "source": [
    "#* login credentials\n",
    "config = ConfigParser()\n",
    "config.read('config.ini')\n",
    "username = config['X']['username']\n",
    "email = config['X']['email']\n",
    "password = config['X']['password']\n",
    "client = Client('en-US')"
   ]
  },
  {
   "cell_type": "code",
   "execution_count": 4,
   "id": "fc3946f3-d760-4773-9d58-ecb92d6f1e11",
   "metadata": {},
   "outputs": [
    {
     "data": {
      "text/plain": [
       "<coroutine object Client.login at 0x7fdb3d6f2ce0>"
      ]
     },
     "execution_count": 4,
     "metadata": {},
     "output_type": "execute_result"
    }
   ],
   "source": [
    "# Initialize client\n",
    "#client = Client('en-US')\n",
    "#client.login(auth_info_1=username, auth_info_2=email, password=password)\n",
    "#async def main():\n",
    "#     await client.login(\n",
    "#         auth_info_1=username,\n",
    "#         auth_info_2=email,\n",
    "#         password=password\n",
    "#     )\n",
    "# await main()"
   ]
  },
  {
   "cell_type": "code",
   "execution_count": 4,
   "id": "7e159cab-0eff-475c-8fd4-755532c3b866",
   "metadata": {},
   "outputs": [],
   "source": [
    "with open('tweets.csv', 'w', newline='') as file:\n",
    "    writer = csv.writer(file)\n",
    "    writer.writerow(['Tweet_count', 'Username', 'Text', 'Created At', 'Retweets', 'Likes'])"
   ]
  },
  {
   "cell_type": "code",
   "execution_count": 5,
   "id": "74df3b89-37ea-485f-bf0c-cacd8860e277",
   "metadata": {},
   "outputs": [],
   "source": [
    "async def get_tweets(tweets):\n",
    "    if tweets is None:\n",
    "        #* get tweets\n",
    "        print(f'{datetime.now()} - Getting tweets...')\n",
    "        tweets = await client.search_tweet(QUERY, product='Top')\n",
    "    else:\n",
    "        wait_time = randint(5, 10)\n",
    "        print(f'{datetime.now()} - Getting next tweets after {wait_time} seconds ...')\n",
    "        time.sleep(wait_time)\n",
    "        tweets = await tweets.next()\n",
    "    return tweets\n"
   ]
  },
  {
   "cell_type": "code",
   "execution_count": 9,
   "id": "f84397be-55ba-4375-97c6-7ad97d0c81dd",
   "metadata": {},
   "outputs": [
    {
     "name": "stdout",
     "output_type": "stream",
     "text": [
      "2024-10-12 17:29:16.773462 - Getting tweets...\n",
      "2024-10-12 17:29:18.907113 - Got 19 tweets\n",
      "2024-10-12 17:29:18.907222 - Getting next tweets after 9 seconds ...\n",
      "2024-10-12 17:29:30.517202 - Got 39 tweets\n",
      "2024-10-12 17:29:30.517293 - Getting next tweets after 9 seconds ...\n",
      "2024-10-12 17:29:41.787090 - Got 59 tweets\n",
      "2024-10-12 17:29:41.787194 - Getting next tweets after 6 seconds ...\n",
      "2024-10-12 17:29:50.666493 - Got 79 tweets\n",
      "2024-10-12 17:29:50.666603 - Getting next tweets after 10 seconds ...\n",
      "2024-10-12 17:30:03.290589 - Got 99 tweets\n",
      "2024-10-12 17:30:03.290707 - Getting next tweets after 10 seconds ...\n",
      "2024-10-12 17:30:15.740141 - Got 119 tweets\n",
      "2024-10-12 17:30:15.740236 - Done! Got 119 tweets found\n"
     ]
    }
   ],
   "source": [
    "async def main():\n",
    "    tweets = None  # Initialize your tweets variable\n",
    "    MINIMUM_TWEETS = 100\n",
    "    tweet_count = 0 \n",
    "    await client.login(auth_info_1=username,auth_info_2=email,password=password)\n",
    "   \n",
    "    # Now you can safely iterate over the tweets\n",
    "    while tweet_count < MINIMUM_TWEETS:\n",
    "        try:\n",
    "            tweets = await get_tweets(tweets)  # Await the tweet fetching coroutine\n",
    "        except TooManyRequests as e:\n",
    "            rate_limit_reset = datetime.fromtimestamp(e.rate_limit_reset)\n",
    "            print(f'{datetime.now()} - Rate limit reached. Waiting until {rate_limit_reset}')\n",
    "            wait_time = rate_limit_reset - datetime.now()\n",
    "            time.sleep(wait_time.total_seconds())\n",
    "            continue\n",
    "    \n",
    "        if not tweets:\n",
    "            print(f'{datetime.now()} - No more tweets found')\n",
    "            break\n",
    "    \n",
    "        for tweet in tweets:\n",
    "            tweet_count += 1\n",
    "            tweet_data = [tweet_count, tweet.user.name, tweet.text, tweet.created_at, tweet.retweet_count, tweet.favorite_count]\n",
    "            \n",
    "            with open('tweets.csv', 'a', newline='') as file:\n",
    "                writer = csv.writer(file)\n",
    "                writer.writerow(tweet_data)\n",
    "    \n",
    "        print(f'{datetime.now()} - Got {tweet_count} tweets')\n",
    "\n",
    "    print(f'{datetime.now()} - Done! Got {tweet_count} tweets found')\n",
    "\n",
    "\n",
    "await main()"
   ]
  },
  {
   "cell_type": "code",
   "execution_count": null,
   "id": "b88b8b08-8245-43e4-9e4f-88a8ee571f42",
   "metadata": {},
   "outputs": [],
   "source": []
  }
 ],
 "metadata": {
  "kernelspec": {
   "display_name": "Python 3 (ipykernel)",
   "language": "python",
   "name": "python3"
  },
  "language_info": {
   "codemirror_mode": {
    "name": "ipython",
    "version": 3
   },
   "file_extension": ".py",
   "mimetype": "text/x-python",
   "name": "python",
   "nbconvert_exporter": "python",
   "pygments_lexer": "ipython3",
   "version": "3.12.0"
  }
 },
 "nbformat": 4,
 "nbformat_minor": 5
}
